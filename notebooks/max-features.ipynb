{
 "cells": [
  {
   "cell_type": "code",
   "execution_count": 1,
   "metadata": {},
   "outputs": [
    {
     "data": {
      "text/html": [
       "<pre style=\"white-space:pre;overflow-x:auto;line-height:normal;font-family:Menlo,'DejaVu Sans Mono',consolas,'Courier New',monospace\">Accessing as AJINKYA-TEMGIRE\n",
       "</pre>\n"
      ],
      "text/plain": [
       "Accessing as AJINKYA-TEMGIRE\n"
      ]
     },
     "metadata": {},
     "output_type": "display_data"
    },
    {
     "data": {
      "text/html": [
       "<pre style=\"white-space:pre;overflow-x:auto;line-height:normal;font-family:Menlo,'DejaVu Sans Mono',consolas,'Courier New',monospace\">Initialized MLflow to track repo <span style=\"color: #008000; text-decoration-color: #008000\">\"AJINKYA-TEMGIRE/Influencers-Comment-Analysis\"</span>\n",
       "</pre>\n"
      ],
      "text/plain": [
       "Initialized MLflow to track repo \u001b[32m\"AJINKYA-TEMGIRE/Influencers-Comment-Analysis\"\u001b[0m\n"
      ]
     },
     "metadata": {},
     "output_type": "display_data"
    },
    {
     "data": {
      "text/html": [
       "<pre style=\"white-space:pre;overflow-x:auto;line-height:normal;font-family:Menlo,'DejaVu Sans Mono',consolas,'Courier New',monospace\">Repository AJINKYA-TEMGIRE/Influencers-Comment-Analysis initialized!\n",
       "</pre>\n"
      ],
      "text/plain": [
       "Repository AJINKYA-TEMGIRE/Influencers-Comment-Analysis initialized!\n"
      ]
     },
     "metadata": {},
     "output_type": "display_data"
    }
   ],
   "source": [
    "import mlflow \n",
    "import dagshub\n",
    "\n",
    "import pandas as pd\n",
    "import numpy as np \n",
    "\n",
    "mlflow.set_tracking_uri(\"https://dagshub.com/AJINKYA-TEMGIRE/Influencers-Comment-Analysis.mlflow\")\n",
    "dagshub.init(repo_owner='AJINKYA-TEMGIRE', repo_name='Influencers-Comment-Analysis', mlflow=True)\n",
    "\n",
    "\n"
   ]
  },
  {
   "cell_type": "code",
   "execution_count": 2,
   "metadata": {},
   "outputs": [
    {
     "name": "stderr",
     "output_type": "stream",
     "text": [
      "2025/02/08 10:52:26 INFO mlflow.tracking.fluent: Experiment with name 'Max Features' does not exist. Creating a new experiment.\n"
     ]
    },
    {
     "data": {
      "text/plain": [
       "<Experiment: artifact_location='mlflow-artifacts:/d0f0882084324ec6a8b7cf332901537f', creation_time=1738992147566, experiment_id='2', last_update_time=1738992147566, lifecycle_stage='active', name='Max Features', tags={}>"
      ]
     },
     "execution_count": 2,
     "metadata": {},
     "output_type": "execute_result"
    }
   ],
   "source": [
    "mlflow.set_experiment(\"Max Features\")"
   ]
  },
  {
   "cell_type": "code",
   "execution_count": 4,
   "metadata": {},
   "outputs": [],
   "source": [
    "from sklearn.feature_extraction.text import TfidfVectorizer\n",
    "from sklearn.model_selection import train_test_split\n",
    "from sklearn.ensemble import RandomForestClassifier\n",
    "from sklearn.metrics import accuracy_score , classification_report\n",
    "\n",
    "data = pd.read_csv(r\"../data/interim/cleaned_data.csv\")\n",
    "\n",
    "data.dropna(inplace=True)\n",
    "\n",
    "x = data['clean_comment']\n",
    "y = data['category']\n",
    "\n",
    "n_gram = (1,3)\n",
    "\n",
    "def max__features(features):\n",
    "\n",
    "    xtrain , xtest , ytrain , ytest = train_test_split(x , y , test_size=0.2 , random_state=42)\n",
    "\n",
    "    vectorizer = TfidfVectorizer(max_features=features , ngram_range=n_gram)\n",
    "\n",
    "    xtrain = vectorizer.fit_transform(xtrain)\n",
    "    xtest = vectorizer.transform(xtest)\n",
    "\n",
    "    clf = RandomForestClassifier()\n",
    "    clf.fit(xtrain , ytrain)\n",
    "    ypred = clf.predict(xtest)\n",
    "    accuracy = accuracy_score(ytest , ypred)\n",
    "    classification_rep = classification_report(ytest , ypred , output_dict = True)\n",
    "\n",
    "\n",
    "    with mlflow.start_run() as run:\n",
    "        mlflow.set_tag(\"mlflow.runName\" , f\"Vectorizer with {features} features\")\n",
    "        mlflow.set_tag(\"Vectorizer\" , \"TFidf\")\n",
    "        mlflow.set_tag(\"Model Name\" , \"Random Forest\")\n",
    "\n",
    "        mlflow.log_param(\"max_features\" , features)\n",
    "        mlflow.log_param(\"n_gram\" , n_gram)\n",
    "        \n",
    "        mlflow.log_metric(\"Accuracy\" , accuracy)\n",
    "\n",
    "        for label, metrics in classification_rep.items():\n",
    "            if isinstance(metrics, dict):\n",
    "                for metric, value in metrics.items():\n",
    "                    mlflow.log_metric(f\"{label}_{metric}\", value)\n",
    "\n",
    "    \n",
    "\n",
    "max_features = [1000 , 2000 , 3000 , 4000 , 5000 , 6000 , 7000 , 8000 , 9000 , 10000]\n",
    "\n",
    "for i in max_features:\n",
    "    max__features(i)"
   ]
  },
  {
   "cell_type": "code",
   "execution_count": null,
   "metadata": {},
   "outputs": [],
   "source": []
  }
 ],
 "metadata": {
  "kernelspec": {
   "display_name": "Python 3",
   "language": "python",
   "name": "python3"
  },
  "language_info": {
   "codemirror_mode": {
    "name": "ipython",
    "version": 3
   },
   "file_extension": ".py",
   "mimetype": "text/x-python",
   "name": "python",
   "nbconvert_exporter": "python",
   "pygments_lexer": "ipython3",
   "version": "3.10.7"
  }
 },
 "nbformat": 4,
 "nbformat_minor": 2
}
